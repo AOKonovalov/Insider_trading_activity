{
 "cells": [
  {
   "cell_type": "markdown",
   "metadata": {
    "id": "9xonZUdMWDBc"
   },
   "source": [
    "Отчет об инсайдерской торговле"
   ]
  },
  {
   "cell_type": "code",
   "execution_count": 16,
   "metadata": {
    "id": "oUNOS3FmEAB6"
   },
   "outputs": [],
   "source": [
    "import numpy as np\n",
    "import pandas as pd\n",
    "from datetime import date"
   ]
  },
  {
   "cell_type": "code",
   "execution_count": 17,
   "metadata": {
    "id": "vVB_Q8kMEA4e"
   },
   "outputs": [],
   "source": [
    "today = date.today()\n",
    "df_insider = pd.read_csv('C:insider_trading_activity.csv')  # выгрузка данных с сайта (https://www.barchart.com/)\n",
    "df_company = pd.read_csv('C:companies.csv') # dir с компаниями, которые покрываются аналитикой"
   ]
  },
  {
   "cell_type": "code",
   "execution_count": 18,
   "metadata": {
    "id": "3x1x8SUYG7FT"
   },
   "outputs": [],
   "source": [
    "df_company.rename(columns={'CPNG': 'Symbol'}, inplace = True)"
   ]
  },
  {
   "cell_type": "code",
   "execution_count": 19,
   "metadata": {
    "colab": {
     "base_uri": "https://localhost:8080/",
     "height": 206
    },
    "id": "9fINVvPAG0A4",
    "outputId": "0e014910-57aa-4e2a-f1d1-f1f0ecc0e40c"
   },
   "outputs": [
    {
     "data": {
      "text/html": [
       "<div>\n",
       "<style scoped>\n",
       "    .dataframe tbody tr th:only-of-type {\n",
       "        vertical-align: middle;\n",
       "    }\n",
       "\n",
       "    .dataframe tbody tr th {\n",
       "        vertical-align: top;\n",
       "    }\n",
       "\n",
       "    .dataframe thead th {\n",
       "        text-align: right;\n",
       "    }\n",
       "</style>\n",
       "<table border=\"1\" class=\"dataframe\">\n",
       "  <thead>\n",
       "    <tr style=\"text-align: right;\">\n",
       "      <th></th>\n",
       "      <th>Symbol</th>\n",
       "    </tr>\n",
       "  </thead>\n",
       "  <tbody>\n",
       "    <tr>\n",
       "      <th>0</th>\n",
       "      <td>APLE</td>\n",
       "    </tr>\n",
       "    <tr>\n",
       "      <th>1</th>\n",
       "      <td>VFC</td>\n",
       "    </tr>\n",
       "    <tr>\n",
       "      <th>2</th>\n",
       "      <td>APP</td>\n",
       "    </tr>\n",
       "  </tbody>\n",
       "</table>\n",
       "</div>"
      ],
      "text/plain": [
       "  Symbol\n",
       "0   APLE\n",
       "1    VFC\n",
       "2    APP"
      ]
     },
     "execution_count": 19,
     "metadata": {},
     "output_type": "execute_result"
    }
   ],
   "source": [
    "df_company.head(3)"
   ]
  },
  {
   "cell_type": "code",
   "execution_count": 20,
   "metadata": {
    "colab": {
     "base_uri": "https://localhost:8080/",
     "height": 206
    },
    "id": "4OY6P9JxbOOH",
    "outputId": "506dcf2b-275e-49fd-b9c7-6600ca17a8da"
   },
   "outputs": [
    {
     "data": {
      "text/html": [
       "<div>\n",
       "<style scoped>\n",
       "    .dataframe tbody tr th:only-of-type {\n",
       "        vertical-align: middle;\n",
       "    }\n",
       "\n",
       "    .dataframe tbody tr th {\n",
       "        vertical-align: top;\n",
       "    }\n",
       "\n",
       "    .dataframe thead th {\n",
       "        text-align: right;\n",
       "    }\n",
       "</style>\n",
       "<table border=\"1\" class=\"dataframe\">\n",
       "  <thead>\n",
       "    <tr style=\"text-align: right;\">\n",
       "      <th></th>\n",
       "      <th>Symbol</th>\n",
       "      <th>Name</th>\n",
       "      <th>Insider Name</th>\n",
       "      <th>Title</th>\n",
       "      <th>Transaction</th>\n",
       "      <th>Shares</th>\n",
       "      <th>@Price</th>\n",
       "      <th>Trans Total</th>\n",
       "      <th>Shares After</th>\n",
       "      <th>Date</th>\n",
       "    </tr>\n",
       "  </thead>\n",
       "  <tbody>\n",
       "    <tr>\n",
       "      <th>0</th>\n",
       "      <td>CMPO</td>\n",
       "      <td>Composecure Inc</td>\n",
       "      <td>David Cote</td>\n",
       "      <td>Chair</td>\n",
       "      <td>Buy</td>\n",
       "      <td>646893.0</td>\n",
       "      <td>15.4371</td>\n",
       "      <td>9986152.0</td>\n",
       "      <td>49959696.0</td>\n",
       "      <td>2025-02-14</td>\n",
       "    </tr>\n",
       "    <tr>\n",
       "      <th>1</th>\n",
       "      <td>PBI</td>\n",
       "      <td>Pitney Bowes Inc</td>\n",
       "      <td>Kurt James Wolf</td>\n",
       "      <td>NaN</td>\n",
       "      <td>Sell</td>\n",
       "      <td>1604678.0</td>\n",
       "      <td>9.8793</td>\n",
       "      <td>15853096.0</td>\n",
       "      <td>14186244.0</td>\n",
       "      <td>2025-02-14</td>\n",
       "    </tr>\n",
       "    <tr>\n",
       "      <th>2</th>\n",
       "      <td>TEAM</td>\n",
       "      <td>Atlassian Corp</td>\n",
       "      <td>Anutthara Bharadwaj</td>\n",
       "      <td>Pres.</td>\n",
       "      <td>Sell</td>\n",
       "      <td>1520.0</td>\n",
       "      <td>312.5800</td>\n",
       "      <td>475122.0</td>\n",
       "      <td>201657.0</td>\n",
       "      <td>2025-02-14</td>\n",
       "    </tr>\n",
       "  </tbody>\n",
       "</table>\n",
       "</div>"
      ],
      "text/plain": [
       "  Symbol              Name         Insider Name  Title Transaction     Shares  \\\n",
       "0   CMPO   Composecure Inc           David Cote  Chair         Buy   646893.0   \n",
       "1    PBI  Pitney Bowes Inc      Kurt James Wolf    NaN        Sell  1604678.0   \n",
       "2   TEAM    Atlassian Corp  Anutthara Bharadwaj  Pres.        Sell     1520.0   \n",
       "\n",
       "     @Price  Trans Total  Shares After        Date  \n",
       "0   15.4371    9986152.0    49959696.0  2025-02-14  \n",
       "1    9.8793   15853096.0    14186244.0  2025-02-14  \n",
       "2  312.5800     475122.0      201657.0  2025-02-14  "
      ]
     },
     "execution_count": 20,
     "metadata": {},
     "output_type": "execute_result"
    }
   ],
   "source": [
    "df_insider.head(3)"
   ]
  },
  {
   "cell_type": "code",
   "execution_count": 21,
   "metadata": {
    "id": "kxIVmlwDEHWZ"
   },
   "outputs": [],
   "source": [
    "#оставляем только нужные для отчета поля\n",
    "df_insider = df_insider[['Symbol', 'Insider Name', 'Transaction', 'Trans Total', 'Date']]"
   ]
  },
  {
   "cell_type": "code",
   "execution_count": 22,
   "metadata": {
    "colab": {
     "base_uri": "https://localhost:8080/"
    },
    "id": "HOSiTEyZUN8A",
    "outputId": "fcfed460-0031-4d37-ae7b-b2a0ae81e6eb"
   },
   "outputs": [
    {
     "name": "stdout",
     "output_type": "stream",
     "text": [
      "<class 'pandas.core.frame.DataFrame'>\n",
      "RangeIndex: 548 entries, 0 to 547\n",
      "Data columns (total 5 columns):\n",
      " #   Column        Non-Null Count  Dtype  \n",
      "---  ------        --------------  -----  \n",
      " 0   Symbol        548 non-null    object \n",
      " 1   Insider Name  547 non-null    object \n",
      " 2   Transaction   547 non-null    object \n",
      " 3   Trans Total   547 non-null    float64\n",
      " 4   Date          547 non-null    object \n",
      "dtypes: float64(1), object(4)\n",
      "memory usage: 21.5+ KB\n"
     ]
    }
   ],
   "source": [
    "df_insider.info()"
   ]
  },
  {
   "cell_type": "code",
   "execution_count": 23,
   "metadata": {
    "id": "OVcCjem2ELVb"
   },
   "outputs": [],
   "source": [
    "# Оставляем типы сделок только на покупки и продажи\n",
    "df_insider = df_insider[df_insider['Transaction'].isin(['Sell', 'Buy'])]"
   ]
  },
  {
   "cell_type": "code",
   "execution_count": 24,
   "metadata": {
    "id": "UQmZxynCE57i"
   },
   "outputs": [],
   "source": [
    "# сверяемся со списком компаний, которые нас интересиуют и оставляем только их\n",
    "df_insider = df_insider[df_insider['Symbol'].isin(df_company['Symbol'])]"
   ]
  },
  {
   "cell_type": "code",
   "execution_count": 25,
   "metadata": {
    "id": "N0Rj4bN3E522"
   },
   "outputs": [],
   "source": [
    "# округляем сумму сделки до млн\n",
    "df_insider['Trans Total'] = round(df_insider['Trans Total'] / 1_000_000, 2)"
   ]
  },
  {
   "cell_type": "code",
   "execution_count": 26,
   "metadata": {
    "id": "ioU0TLXlE55I"
   },
   "outputs": [],
   "source": [
    "df_insider.sort_values(by= ['Transaction', 'Symbol', 'Trans Total'], inplace=True)"
   ]
  },
  {
   "cell_type": "code",
   "execution_count": 28,
   "metadata": {
    "colab": {
     "base_uri": "https://localhost:8080/",
     "height": 423
    },
    "id": "pD306kaRE59y",
    "outputId": "087c35bd-8773-41cb-a804-9271b263dbfe"
   },
   "outputs": [
    {
     "data": {
      "text/html": [
       "<div>\n",
       "<style scoped>\n",
       "    .dataframe tbody tr th:only-of-type {\n",
       "        vertical-align: middle;\n",
       "    }\n",
       "\n",
       "    .dataframe tbody tr th {\n",
       "        vertical-align: top;\n",
       "    }\n",
       "\n",
       "    .dataframe thead th {\n",
       "        text-align: right;\n",
       "    }\n",
       "</style>\n",
       "<table border=\"1\" class=\"dataframe\">\n",
       "  <thead>\n",
       "    <tr style=\"text-align: right;\">\n",
       "      <th></th>\n",
       "      <th>Symbol</th>\n",
       "      <th>Insider Name</th>\n",
       "      <th>Transaction</th>\n",
       "      <th>Trans Total</th>\n",
       "      <th>Date</th>\n",
       "    </tr>\n",
       "  </thead>\n",
       "  <tbody>\n",
       "    <tr>\n",
       "      <th>0</th>\n",
       "      <td>FLNC</td>\n",
       "      <td>Herman E Bulls</td>\n",
       "      <td>Buy</td>\n",
       "      <td>0.20</td>\n",
       "      <td>2025-02-13</td>\n",
       "    </tr>\n",
       "    <tr>\n",
       "      <th>1</th>\n",
       "      <td>ORCL</td>\n",
       "      <td>Charles W Moorman iv</td>\n",
       "      <td>Buy</td>\n",
       "      <td>0.95</td>\n",
       "      <td>2025-02-12</td>\n",
       "    </tr>\n",
       "    <tr>\n",
       "      <th>2</th>\n",
       "      <td>PFE</td>\n",
       "      <td>Ronald E Blaylock</td>\n",
       "      <td>Buy</td>\n",
       "      <td>0.50</td>\n",
       "      <td>2025-02-13</td>\n",
       "    </tr>\n",
       "    <tr>\n",
       "      <th>3</th>\n",
       "      <td>ABNB</td>\n",
       "      <td>Brian Chesky</td>\n",
       "      <td>Sell</td>\n",
       "      <td>26.74</td>\n",
       "      <td>2025-02-12</td>\n",
       "    </tr>\n",
       "    <tr>\n",
       "      <th>4</th>\n",
       "      <td>ABNB</td>\n",
       "      <td>Joseph Gebbia</td>\n",
       "      <td>Sell</td>\n",
       "      <td>28.94</td>\n",
       "      <td>2025-02-11</td>\n",
       "    </tr>\n",
       "  </tbody>\n",
       "</table>\n",
       "</div>"
      ],
      "text/plain": [
       "  Symbol          Insider Name Transaction  Trans Total        Date\n",
       "0   FLNC        Herman E Bulls         Buy         0.20  2025-02-13\n",
       "1   ORCL  Charles W Moorman iv         Buy         0.95  2025-02-12\n",
       "2    PFE     Ronald E Blaylock         Buy         0.50  2025-02-13\n",
       "3   ABNB          Brian Chesky        Sell        26.74  2025-02-12\n",
       "4   ABNB         Joseph Gebbia        Sell        28.94  2025-02-11"
      ]
     },
     "execution_count": 28,
     "metadata": {},
     "output_type": "execute_result"
    }
   ],
   "source": [
    "df_insider.reset_index(inplace=True)\n",
    "df_insider.drop('index', axis = 1, inplace=True)\n",
    "df_insider.head()"
   ]
  },
  {
   "cell_type": "markdown",
   "metadata": {
    "id": "XDC10XaCBcxi"
   },
   "source": [
    "---\n",
    "Выводим данные сразу в формате поста markdown, учитывая тип сделки"
   ]
  },
  {
   "cell_type": "code",
   "execution_count": 31,
   "metadata": {
    "colab": {
     "base_uri": "https://localhost:8080/"
    },
    "id": "yEEX9TAgMyQN",
    "outputId": "19759efd-c043-4fe0-d36d-06ca66410f89"
   },
   "outputs": [
    {
     "name": "stdout",
     "output_type": "stream",
     "text": [
      "**Сделки инсайдеров 2025-03-09** \n",
      "  \n",
      "**ПОКУПКИ:**\n",
      "✅ FLNC | Herman E Bulls | 0.2 | млн$ | 2025-02-13\n",
      "✅ ORCL | Charles W Moorman iv | 0.95 | млн$ | 2025-02-12\n",
      "✅ PFE | Ronald E Blaylock | 0.5 | млн$ | 2025-02-13\n",
      "\n",
      "**ПРОДАЖИ:**\n",
      "🔻 ABNB | Brian Chesky | 26.74 | млн$ | 2025-02-12\n",
      "🔻 ABNB | Joseph Gebbia | 28.94 | млн$ | 2025-02-11\n",
      "🔻 AMGN | Murdo Gordon | 2.59 | млн$ | 2025-02-11\n",
      "🔻 AMZN | Douglas J Herrington | 6.33 | млн$ | 2025-02-12\n",
      "🔻 APD | Ahmed Hababou | 0.5 | млн$ | 2025-02-11\n",
      "🔻 APD | Francesco Maione | 0.62 | млн$ | 2025-02-10\n",
      "🔻 APD | Brian Galovich | 0.66 | млн$ | 2025-02-13\n",
      "🔻 APD | Melissa Schaeffer | 0.99 | млн$ | 2025-02-10\n",
      "🔻 CME | Kendal Vroman | 1.27 | млн$ | 2025-02-13\n",
      "🔻 CME | Julie Winkler | 2.89 | млн$ | 2025-02-13\n",
      "🔻 COIN | Brian Armstrong | 6.88 | млн$ | 2025-02-11\n",
      "🔻 CRWD | Sameer K Gandhi | 10.7 | млн$ | 2025-02-10\n",
      "🔻 EXPE | Robert J Dzielak | 0.99 | млн$ | 2025-02-12\n",
      "🔻 G | Donald J Klunk | 0.23 | млн$ | 2025-02-11\n",
      "🔻 G | Carol Lindstrom | 0.27 | млн$ | 2025-02-11\n",
      "🔻 GRAB | Suthen Thomas Paradatheth | 0.11 | млн$ | 2025-02-12\n",
      "🔻 GRAB | Ping Yeow (Anthony) Tan | 0.24 | млн$ | 2025-02-10\n",
      "🔻 HAL | Eric Carre | 3.69 | млн$ | 2025-02-11\n",
      "🔻 LEU | Larry B Cutlip | 0.48 | млн$ | 2025-02-12\n",
      "🔻 LLY | American Shareholder | 31.18 | млн$ | 2025-02-13\n",
      "🔻 MCD | Chris J Kempczinski | 3.26 | млн$ | 2025-02-11\n",
      "🔻 MDB | Dwight A Merriman | 0.54 | млн$ | 2025-02-10\n",
      "🔻 META | Jennifer Newstead | 0.64 | млн$ | 2025-02-11\n",
      "🔻 META | Mark Zuckerberg | 25.62 | млн$ | 2025-02-10\n",
      "🔻 META | Mark Zuckerberg | 28.31 | млн$ | 2025-02-12\n",
      "🔻 NKE | Heidi O?Neill | 1.01 | млн$ | 2025-02-11\n",
      "🔻 NOW | Paul Edward Chamberlain | 0.29 | млн$ | 2025-02-13\n",
      "🔻 NOW | Larry Quinlan | 0.42 | млн$ | 2025-02-11\n",
      "🔻 NU | Guilherme Marques Do Lago | 2.06 | млн$ | 2025-02-10\n",
      "🔻 PLTR | Heather Planishek | 1.61 | млн$ | 2025-02-11\n",
      "🔻 PM | Reginaldo Dobrowolski | 0.25 | млн$ | 2025-02-12\n",
      "🔻 QCOM | Akash J Palkhiwala | 0.51 | млн$ | 2025-02-12\n",
      "🔻 QCOM | Alexander H Rogers | 3.28 | млн$ | 2025-02-10\n",
      "🔻 ROKU | Anthony J Wood | 2.2 | млн$ | 2025-02-10\n",
      "🔻 SHOP | Kasra Nejatian | 6.04 | млн$ | 2025-02-12\n",
      "🔻 SHOP | Toby David Shannan | 6.33 | млн$ | 2025-02-13\n",
      "🔻 SMG | American Shareholder | 4.19 | млн$ | 2025-02-13\n",
      "🔻 SPOT | Christopher Marshall | 1.57 | млн$ | 2025-02-10\n",
      "🔻 SPOT | Alex Norström | 14.27 | млн$ | 2025-02-12\n",
      "🔻 TTD | Jeffrey Terry Green | 48.27 | млн$ | 2025-02-11\n",
      "🔻 VRTX | Jonathan Biller | 0.15 | млн$ | 2025-02-11\n"
     ]
    }
   ],
   "source": [
    "print(f'**Сделки инсайдеров {today}** \\n  \\n**ПОКУПКИ:**')\n",
    "for i in df_insider.index:\n",
    "  if df_insider.iat[i, 2] == 'Buy':\n",
    "    print('✅ ', end ='')\n",
    "    print(df_insider.iat[i, 0], df_insider.iat[i, 1], df_insider.iat[i, 3], 'млн$', df_insider.iat[i, 4], sep = ' | ', end='\\n')\n",
    "print('\\n**ПРОДАЖИ:**')\n",
    "for i in df_insider.index:\n",
    "  if df_insider.iat[i, 2] == 'Sell' and df_insider.iat[i, 3] >= 0.1:\n",
    "    print('🔻 ', end ='')\n",
    "    print(df_insider.iat[i, 0], df_insider.iat[i, 1], df_insider.iat[i, 3], 'млн$', df_insider.iat[i, 4], sep = ' | ', end='\\n')"
   ]
  }
 ],
 "metadata": {
  "colab": {
   "provenance": []
  },
  "kernelspec": {
   "display_name": "Python 3 (ipykernel)",
   "language": "python",
   "name": "python3"
  },
  "language_info": {
   "codemirror_mode": {
    "name": "ipython",
    "version": 3
   },
   "file_extension": ".py",
   "mimetype": "text/x-python",
   "name": "python",
   "nbconvert_exporter": "python",
   "pygments_lexer": "ipython3",
   "version": "3.13.0"
  }
 },
 "nbformat": 4,
 "nbformat_minor": 4
}
